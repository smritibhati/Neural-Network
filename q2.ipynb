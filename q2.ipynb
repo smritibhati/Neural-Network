{
 "cells": [
  {
   "cell_type": "markdown",
   "metadata": {},
   "source": [
    "# Neural Networks for House price Prediction"
   ]
  },
  {
   "cell_type": "markdown",
   "metadata": {},
   "source": [
    "Predicting house prices is a regression problem.\n",
    "Predicting labels in the Apparal dataset, was a classification problem."
   ]
  },
  {
   "cell_type": "markdown",
   "metadata": {},
   "source": [
    "In neural networks classification IS regression. They learn the distribution over classes in the feature space, \n",
    "you can’t perform classification without regression."
   ]
  },
  {
   "cell_type": "markdown",
   "metadata": {},
   "source": [
    "Neural networks approximate a function which outputs the sufficient statistics of some probability\n",
    "mass/density function. It’s your interpretation of the output of a neural network that gives rise to\n",
    "classification as being distinct from regression."
   ]
  },
  {
   "cell_type": "markdown",
   "metadata": {},
   "source": [
    "In multi-class classification, the assumption we typically make about our target data is that they are \n",
    "distributed according to the categorical distribution. In this case, we would choose the output of our \n",
    "neural network to be the softmax function.\n",
    "This way we turn our regressor, which smoothly approximates the categorical distribution, \n",
    "into a “hard” classifier by choosing to interpret its output as prediction through hard assignment (via argmax)."
   ]
  },
  {
   "cell_type": "markdown",
   "metadata": {},
   "source": [
    "For a regression problem the neural network would not use softmax in the last layer.\n",
    "It would just predict the house price using the inputs (house attributes)."
   ]
  }
 ],
 "metadata": {
  "kernelspec": {
   "display_name": "Python 3",
   "language": "python",
   "name": "python3"
  },
  "language_info": {
   "codemirror_mode": {
    "name": "ipython",
    "version": 3
   },
   "file_extension": ".py",
   "mimetype": "text/x-python",
   "name": "python",
   "nbconvert_exporter": "python",
   "pygments_lexer": "ipython3",
   "version": "3.7.1"
  }
 },
 "nbformat": 4,
 "nbformat_minor": 2
}
