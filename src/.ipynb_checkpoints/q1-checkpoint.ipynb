{
 "cells": [
  {
   "cell_type": "code",
   "execution_count": 35,
   "metadata": {},
   "outputs": [],
   "source": [
    "import numpy as np\n",
    "import pandas as pd\n",
    "df = pd.read_csv('Apparel/apparel-trainval.csv')\n",
    "from sklearn.preprocessing import LabelEncoder"
   ]
  },
  {
   "cell_type": "code",
   "execution_count": 273,
   "metadata": {},
   "outputs": [],
   "source": [
    "import csv\n",
    "import copy\n",
    "import matplotlib.pyplot as plt"
   ]
  },
  {
   "cell_type": "code",
   "execution_count": 36,
   "metadata": {},
   "outputs": [],
   "source": [
    "data,testdata= np.split(df,[int(0.80*len(df))])\n",
    "X = data[data.columns[1:785]]\n",
    "Y = data[data.columns[0]]"
   ]
  },
  {
   "cell_type": "code",
   "execution_count": 37,
   "metadata": {},
   "outputs": [],
   "source": [
    "means = np.mean(X, axis = 0)\n",
    "stdDev = np.std(X, axis = 0)\n",
    "X = (X - means) / stdDev"
   ]
  },
  {
   "cell_type": "code",
   "execution_count": 38,
   "metadata": {},
   "outputs": [],
   "source": [
    "def onehotencode(names):\n",
    "    uniquenames =len(np.unique(names))\n",
    "    onehot= np.zeros((len(names),uniquenames))\n",
    "    onehot[np.arange(len(names)),names]=1\n",
    "    return onehot"
   ]
  },
  {
   "cell_type": "code",
   "execution_count": 39,
   "metadata": {},
   "outputs": [],
   "source": [
    "encoder = LabelEncoder()\n",
    "Y = data['label'].values\n",
    "encoder.fit(Y)\n",
    "Y = encoder.transform(Y)\n",
    "Y = onehotencode(Y)\n"
   ]
  },
  {
   "cell_type": "code",
   "execution_count": 134,
   "metadata": {},
   "outputs": [],
   "source": [
    "accu=[]   \n",
    "def sigmoid(x):\n",
    "    return 1.0/(1.0+ np.exp(-x))\n",
    "\n",
    "def sigmoidderivative(x):\n",
    "    return x * (1.0 - x)\n",
    "\n",
    "def softmax(x):\n",
    "    temp = np.exp(x- np.max(x, axis = 1, keepdims=True))\n",
    "    temp2 = np.sum(temp, axis = 1, keepdims= True)\n",
    "    return temp/temp2\n",
    "\n",
    "def der_tanh( z):\n",
    "    return (1 - (np.tanh(z)**2))\n",
    "\n"
   ]
  },
  {
   "cell_type": "code",
   "execution_count": 175,
   "metadata": {},
   "outputs": [],
   "source": [
    "layeraccu = []\n",
    "numlayers =[]\n",
    "count=1\n",
    "def reLu(z):\n",
    "    Z = copy.deepcopy(z)\n",
    "    Z[Z < 0] = 0\n",
    "    return Z\n",
    "    \n",
    "def der_reLu(z):\n",
    "    Z = copy.deepcopy(z)\n",
    "    Z[Z <= 0] = 0\n",
    "    Z[Z > 0] = 1\n",
    "    return Z\n"
   ]
  },
  {
   "cell_type": "code",
   "execution_count": 237,
   "metadata": {},
   "outputs": [],
   "source": [
    "class NeuralNetwork:\n",
    "    def __init__(self, X, Y, hiddeninfo):\n",
    "        self.n = len(hiddeninfo)\n",
    "        self.inputlayersize  = X.shape[1]\n",
    "        self.outputlayersize = df['label'].unique().size  \n",
    "        self.allweights = [.01] *(self.n + 1)\n",
    "        self.allactivations = [.01] *(self.n+1 )\n",
    "        self.allz = [.01]*(self.n +1)\n",
    "        \n",
    "        self.allweights[0] =  np.random.rand(self.inputlayersize,hiddeninfo[0])\n",
    "        \n",
    "        for i in range (1,self.n+1):\n",
    "            if i==self.n:\n",
    "                weights= np.random.rand(hiddeninfo[self.n-1],self.outputlayersize)\n",
    "            else:\n",
    "                weights = np.random.rand(hiddeninfo[i-1],hiddeninfo[i])\n",
    "            self.allweights[i]=weights \n",
    "    \n",
    "    def forwardprop(self,X,Y):\n",
    "        \n",
    "        output = []\n",
    "        self.allz[0] = np.dot(X,self.allweights[0])\n",
    "        self.allactivations[0] = sigmoid(self.allz[0])\n",
    "#         self.allbias = \n",
    "        \n",
    "        for i in range(1, len(self.allweights)):\n",
    "            self.allz[i] = np.dot(self.allactivations[i-1],self.allweights[i])\n",
    "            self.allactivations[i] = sigmoid(self.allz[i])\n",
    "\n",
    "#         print(self.allz[-1])\n",
    "        self.op = softmax(self.allz[-1]);\n",
    "        return self.op\n",
    "#         print(self.op)\n",
    "\n",
    "\n",
    "    def backprop(self,X,Y):\n",
    "        # application of the chain rule to find derivative of the loss function with respect to weights2 and weights1\n",
    "        deltas = [np.float128(1.0)] * len(self.allweights)\n",
    "        dweights = [np.float128(1.0)] *len(self.allweights)\n",
    "        \n",
    "        deltas[-1] = - (Y -self.op)*der_tanh(self.allactivations[-1]);\n",
    "        dweights[-1] = np.dot(self.allactivations[-2].T, deltas[-1])\n",
    "        \n",
    "        \n",
    "        i = len(self.allweights)-2\n",
    "        while i>0:\n",
    "            deltas[i] = np.dot(deltas[i+1],self.allweights[i+1].T)*der_tanh(self.allactivations[i])\n",
    "            dweights[i] = np.dot(self.allactivations[i-1].T, deltas[i])\n",
    "            i-=1\n",
    "        \n",
    "        deltas[0] =  np.dot(deltas[1],self.allweights[1].T)*der_tanh(self.allactivations[0])\n",
    "        dweights[0] = np.dot(X.T, deltas[0])\n",
    "\n",
    "        for i in range(len(self.allweights)):\n",
    "            self.allweights[i] = self.allweights[i] - .01 * dweights[i]\n",
    "        \n",
    "#         print (self.op)\n",
    "#         print(dweights)\n"
   ]
  },
  {
   "cell_type": "code",
   "execution_count": 242,
   "metadata": {},
   "outputs": [],
   "source": [
    "epochaccu=[]\n",
    "epochcount=[]\n",
    "epoch=0\n",
    "def error(Y, op):\n",
    "    return np.sum((Y - op)**2)"
   ]
  },
  {
   "cell_type": "code",
   "execution_count": 259,
   "metadata": {},
   "outputs": [
    {
     "name": "stderr",
     "output_type": "stream",
     "text": [
      "/Library/Frameworks/Python.framework/Versions/3.7/lib/python3.7/site-packages/ipykernel_launcher.py:3: RuntimeWarning: overflow encountered in exp\n",
      "  This is separate from the ipykernel package so we can avoid doing imports until\n"
     ]
    }
   ],
   "source": [
    "nn = NeuralNetwork(X,Y,[128])\n",
    "epoch+=5\n",
    "for i in range(20):\n",
    "    s = 0\n",
    "    for i in range(480):\n",
    "#         print (s)\n",
    "        op = nn.forwardprop(X.iloc[s:s+100],Y[s:s+100])\n",
    "        oneY = Y[s:s+100]\n",
    "        nn.backprop(X.iloc[s:s+100],oneY)\n",
    "        s+=100\n",
    "    \n",
    "    opall = nn.forwardprop(X,Y)\n",
    "#     print(error(Y,opall))\n"
   ]
  },
  {
   "cell_type": "code",
   "execution_count": 189,
   "metadata": {},
   "outputs": [],
   "source": [
    "XX = testdata[testdata.columns[1:785]]\n",
    "YY = testdata[testdata.columns[0]]\n",
    "means = np.mean(XX, axis = 0)\n",
    "stdDev = np.std(XX, axis = 0)\n",
    "XX = (XX - means) / stdDev\n"
   ]
  },
  {
   "cell_type": "code",
   "execution_count": 190,
   "metadata": {},
   "outputs": [],
   "source": [
    "encoder = LabelEncoder()\n",
    "Yy = testdata['label'].values\n",
    "encoder.fit(YY)\n",
    "YY = encoder.transform(YY)\n",
    "YY = onehotencode(YY)"
   ]
  },
  {
   "cell_type": "code",
   "execution_count": 260,
   "metadata": {},
   "outputs": [
    {
     "name": "stderr",
     "output_type": "stream",
     "text": [
      "/Library/Frameworks/Python.framework/Versions/3.7/lib/python3.7/site-packages/ipykernel_launcher.py:3: RuntimeWarning: overflow encountered in exp\n",
      "  This is separate from the ipykernel package so we can avoid doing imports until\n"
     ]
    }
   ],
   "source": [
    "op = nn.forwardprop(XX,YY)"
   ]
  },
  {
   "cell_type": "code",
   "execution_count": 261,
   "metadata": {},
   "outputs": [],
   "source": [
    "correct=0\n",
    "for i in range(len(op)):\n",
    "    temp1 = np.argmax(YY[i])\n",
    "    temp2 = np.argmax(op[i])\n",
    "    if(temp1 == temp2):\n",
    "        correct += 1\n",
    "\n",
    "epochaccu.append(correct*1.0/len(op))\n",
    "epochcount.append(epoch)\n",
    "# print(correct*1.0/len(op))"
   ]
  },
  {
   "cell_type": "code",
   "execution_count": 166,
   "metadata": {},
   "outputs": [
    {
     "name": "stdout",
     "output_type": "stream",
     "text": [
      "Acuuracies using sigmoid, tanh and relu as activation functions [0.8433333333333334, 0.76475, 0.17358333333333334]\n"
     ]
    }
   ],
   "source": [
    "print(\"Acuuracies using sigmoid, tanh and relu as activation functions\", accu)"
   ]
  },
  {
   "cell_type": "markdown",
   "metadata": {},
   "source": [
    "# Accuracies with increasing number of layers"
   ]
  },
  {
   "cell_type": "code",
   "execution_count": 257,
   "metadata": {},
   "outputs": [
    {
     "data": {
      "image/png": "[encoded data removed]",
      "text/plain": [
       "<Figure size 432x288 with 1 Axes>"
      ]
     },
     "metadata": {
      "needs_background": "light"
     },
     "output_type": "display_data"
    }
   ],
   "source": [
    "plt.plot(numlayers, layeraccu)\n",
    "plt.show()"
   ]
  },
  {
   "cell_type": "markdown",
   "metadata": {},
   "source": [
    "# Accuracies with increasing numbers of epochs"
   ]
  },
  {
   "cell_type": "code",
   "execution_count": 272,
   "metadata": {},
   "outputs": [
    {
     "data": {
      "image/png": "[encoded data removed]",
      "text/plain": [
       "<Figure size 432x288 with 1 Axes>"
      ]
     },
     "metadata": {
      "needs_background": "light"
     },
     "output_type": "display_data"
    }
   ],
   "source": [
    "plt.plot(epochcount, epochaccu)\n",
    "plt.show()"
   ]
  },
  {
   "cell_type": "markdown",
   "metadata": {},
   "source": [
    "# Prediction for testdata"
   ]
  },
  {
   "cell_type": "code",
   "execution_count": 293,
   "metadata": {},
   "outputs": [
    {
     "name": "stderr",
     "output_type": "stream",
     "text": [
      "/Library/Frameworks/Python.framework/Versions/3.7/lib/python3.7/site-packages/ipykernel_launcher.py:3: RuntimeWarning: overflow encountered in exp\n",
      "  This is separate from the ipykernel package so we can avoid doing imports until\n"
     ]
    }
   ],
   "source": [
    "TEST = df = pd.read_csv('apparel-test.csv')\n",
    "means = np.mean(TEST, axis = 0)\n",
    "stdDev = np.std(TEST, axis = 0)\n",
    "TEST = (TEST - means) / stdDev\n",
    "\n",
    "softm = nn.forwardprop(TEST,[])\n",
    "predictions = []\n",
    "for i in range(len(op)):\n",
    "    temp = np.argmax(op[i])*1.0\n",
    "    predictions.append(temp)\n",
    "\n",
    "np.savetxt(\"2018201093_predict.csv\", predictions, delimiter=\",\")"
   ]
  },
  {
   "cell_type": "code",
   "execution_count": null,
   "metadata": {},
   "outputs": [],
   "source": []
  }
 ],
 "metadata": {
  "kernelspec": {
   "display_name": "Python 3",
   "language": "python",
   "name": "python3"
  },
  "language_info": {
   "codemirror_mode": {
    "name": "ipython",
    "version": 3
   },
   "file_extension": ".py",
   "mimetype": "text/x-python",
   "name": "python",
   "nbconvert_exporter": "python",
   "pygments_lexer": "ipython3",
   "version": "3.7.1"
  }
 },
 "nbformat": 4,
 "nbformat_minor": 2
}
